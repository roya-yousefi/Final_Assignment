{
 "cells": [
  {
   "cell_type": "markdown",
   "metadata": {},
   "source": [
    "## Final Assignment"
   ]
  },
  {
   "attachments": {},
   "cell_type": "markdown",
   "metadata": {},
   "source": [
    "### Introduction\n",
    "Complete Genome of a Family of five - Two Parents, Three Siblings (Genome Phenotype SNPs Raw Data)\n",
    "\n",
    "Genomics is a branch of molecular biology that involves structure, function, variation, evolution and mapping of genomes. There are several companies offering next generation sequencing of human genomes from complete 3 billion base-pairs to a few thousand Phenotype SNPs. I have used 23andMe (using Illumina HumanOmniExpress-24) for this family's DNA’s Phenotype SNPs."
   ]
  },
  {
   "attachments": {},
   "cell_type": "markdown",
   "metadata": {},
   "source": [
    "### The question :\n",
    "I going to find How similar are the SNPs genomes of parents and their children?"
   ]
  },
  {
   "attachments": {},
   "cell_type": "markdown",
   "metadata": {},
   "source": [
    "### About Data:\n",
    "This dataset selected from the kaggle website. (link mentioned)\n",
    "\n",
    "https://www.kaggle.com/datasets/zusmani/family-genome-dataset\n",
    "\n",
    "The dataset is a complete genome of a Family of five - Two Parents, Three Siblings (Genome Phenotype SNPs Raw Data)which have been analysed only two children with their Father.The dataset is represented as a sequence of SNPs represented by the following symbols: A (adenine), C (cytosine), G (guanine), T (thymine). It contains Chromosomes 1-22, X, Y, and mitochondrial DNA."
   ]
  },
  {
   "attachments": {},
   "cell_type": "markdown",
   "metadata": {},
   "source": [
    "### Import needed Library"
   ]
  },
  {
   "cell_type": "code",
   "execution_count": 1,
   "metadata": {},
   "outputs": [
    {
     "data": {
      "text/html": [
       "<style>\n",
       "        .bk-notebook-logo {\n",
       "            display: block;\n",
       "            width: 20px;\n",
       "            height: 20px;\n",
       "            background-image: url(data:image/png;base64,iVBORw0KGgoAAAANSUhEUgAAABQAAAAUCAYAAACNiR0NAAAABHNCSVQICAgIfAhkiAAAAAlwSFlzAAALEgAACxIB0t1+/AAAABx0RVh0U29mdHdhcmUAQWRvYmUgRmlyZXdvcmtzIENTNui8sowAAAOkSURBVDiNjZRtaJVlGMd/1/08zzln5zjP1LWcU9N0NkN8m2CYjpgQYQXqSs0I84OLIC0hkEKoPtiH3gmKoiJDU7QpLgoLjLIQCpEsNJ1vqUOdO7ppbuec5+V+rj4ctwzd8IIbbi6u+8f1539dt3A78eXC7QizUF7gyV1fD1Yqg4JWz84yffhm0qkFqBogB9rM8tZdtwVsPUhWhGcFJngGeWrPzHm5oaMmkfEg1usvLFyc8jLRqDOMru7AyC8saQr7GG7f5fvDeH7Ej8CM66nIF+8yngt6HWaKh7k49Soy9nXurCi1o3qUbS3zWfrYeQDTB/Qj6kX6Ybhw4B+bOYoLKCC9H3Nu/leUTZ1JdRWkkn2ldcCamzrcf47KKXdAJllSlxAOkRgyHsGC/zRday5Qld9DyoM4/q/rUoy/CXh3jzOu3bHUVZeU+DEn8FInkPBFlu3+nW3Nw0mk6vCDiWg8CeJaxEwuHS3+z5RgY+YBR6V1Z1nxSOfoaPa4LASWxxdNp+VWTk7+4vzaou8v8PN+xo+KY2xsw6une2frhw05CTYOmQvsEhjhWjn0bmXPjpE1+kplmmkP3suftwTubK9Vq22qKmrBhpY4jvd5afdRA3wGjFAgcnTK2s4hY0/GPNIb0nErGMCRxWOOX64Z8RAC4oCXdklmEvcL8o0BfkNK4lUg9HTl+oPlQxdNo3Mg4Nv175e/1LDGzZen30MEjRUtmXSfiTVu1kK8W4txyV6BMKlbgk3lMwYCiusNy9fVfvvwMxv8Ynl6vxoByANLTWplvuj/nF9m2+PDtt1eiHPBr1oIfhCChQMBw6Aw0UulqTKZdfVvfG7VcfIqLG9bcldL/+pdWTLxLUy8Qq38heUIjh4XlzZxzQm19lLFlr8vdQ97rjZVOLf8nclzckbcD4wxXMidpX30sFd37Fv/GtwwhzhxGVAprjbg0gCAEeIgwCZyTV2Z1REEW8O4py0wsjeloKoMr6iCY6dP92H6Vw/oTyICIthibxjm/DfN9lVz8IqtqKYLUXfoKVMVQVVJOElGjrnnUt9T9wbgp8AyYKaGlqingHZU/uG2NTZSVqwHQTWkx9hxjkpWDaCg6Ckj5qebgBVbT3V3NNXMSiWSDdGV3hrtzla7J+duwPOToIg42ChPQOQjspnSlp1V+Gjdged7+8UN5CRAV7a5EdFNwCjEaBR27b3W890TE7g24NAP/mMDXRWrGoFPQI9ls/MWO2dWFAar/xcOIImbbpA3zgAAAABJRU5ErkJggg==);\n",
       "        }\n",
       "    </style>\n",
       "    <div>\n",
       "        <a href=\"https://bokeh.org\" target=\"_blank\" class=\"bk-notebook-logo\"></a>\n",
       "        <span id=\"p1001\">Loading BokehJS ...</span>\n",
       "    </div>\n"
      ]
     },
     "metadata": {},
     "output_type": "display_data"
    },
    {
     "data": {
      "application/javascript": "(function(root) {\n  function now() {\n    return new Date();\n  }\n\n  const force = true;\n\n  if (typeof root._bokeh_onload_callbacks === \"undefined\" || force === true) {\n    root._bokeh_onload_callbacks = [];\n    root._bokeh_is_loading = undefined;\n  }\n\nconst JS_MIME_TYPE = 'application/javascript';\n  const HTML_MIME_TYPE = 'text/html';\n  const EXEC_MIME_TYPE = 'application/vnd.bokehjs_exec.v0+json';\n  const CLASS_NAME = 'output_bokeh rendered_html';\n\n  /**\n   * Render data to the DOM node\n   */\n  function render(props, node) {\n    const script = document.createElement(\"script\");\n    node.appendChild(script);\n  }\n\n  /**\n   * Handle when an output is cleared or removed\n   */\n  function handleClearOutput(event, handle) {\n    const cell = handle.cell;\n\n    const id = cell.output_area._bokeh_element_id;\n    const server_id = cell.output_area._bokeh_server_id;\n    // Clean up Bokeh references\n    if (id != null && id in Bokeh.index) {\n      Bokeh.index[id].model.document.clear();\n      delete Bokeh.index[id];\n    }\n\n    if (server_id !== undefined) {\n      // Clean up Bokeh references\n      const cmd_clean = \"from bokeh.io.state import curstate; print(curstate().uuid_to_server['\" + server_id + \"'].get_sessions()[0].document.roots[0]._id)\";\n      cell.notebook.kernel.execute(cmd_clean, {\n        iopub: {\n          output: function(msg) {\n            const id = msg.content.text.trim();\n            if (id in Bokeh.index) {\n              Bokeh.index[id].model.document.clear();\n              delete Bokeh.index[id];\n            }\n          }\n        }\n      });\n      // Destroy server and session\n      const cmd_destroy = \"import bokeh.io.notebook as ion; ion.destroy_server('\" + server_id + \"')\";\n      cell.notebook.kernel.execute(cmd_destroy);\n    }\n  }\n\n  /**\n   * Handle when a new output is added\n   */\n  function handleAddOutput(event, handle) {\n    const output_area = handle.output_area;\n    const output = handle.output;\n\n    // limit handleAddOutput to display_data with EXEC_MIME_TYPE content only\n    if ((output.output_type != \"display_data\") || (!Object.prototype.hasOwnProperty.call(output.data, EXEC_MIME_TYPE))) {\n      return\n    }\n\n    const toinsert = output_area.element.find(\".\" + CLASS_NAME.split(' ')[0]);\n\n    if (output.metadata[EXEC_MIME_TYPE][\"id\"] !== undefined) {\n      toinsert[toinsert.length - 1].firstChild.textContent = output.data[JS_MIME_TYPE];\n      // store reference to embed id on output_area\n      output_area._bokeh_element_id = output.metadata[EXEC_MIME_TYPE][\"id\"];\n    }\n    if (output.metadata[EXEC_MIME_TYPE][\"server_id\"] !== undefined) {\n      const bk_div = document.createElement(\"div\");\n      bk_div.innerHTML = output.data[HTML_MIME_TYPE];\n      const script_attrs = bk_div.children[0].attributes;\n      for (let i = 0; i < script_attrs.length; i++) {\n        toinsert[toinsert.length - 1].firstChild.setAttribute(script_attrs[i].name, script_attrs[i].value);\n        toinsert[toinsert.length - 1].firstChild.textContent = bk_div.children[0].textContent\n      }\n      // store reference to server id on output_area\n      output_area._bokeh_server_id = output.metadata[EXEC_MIME_TYPE][\"server_id\"];\n    }\n  }\n\n  function register_renderer(events, OutputArea) {\n\n    function append_mime(data, metadata, element) {\n      // create a DOM node to render to\n      const toinsert = this.create_output_subarea(\n        metadata,\n        CLASS_NAME,\n        EXEC_MIME_TYPE\n      );\n      this.keyboard_manager.register_events(toinsert);\n      // Render to node\n      const props = {data: data, metadata: metadata[EXEC_MIME_TYPE]};\n      render(props, toinsert[toinsert.length - 1]);\n      element.append(toinsert);\n      return toinsert\n    }\n\n    /* Handle when an output is cleared or removed */\n    events.on('clear_output.CodeCell', handleClearOutput);\n    events.on('delete.Cell', handleClearOutput);\n\n    /* Handle when a new output is added */\n    events.on('output_added.OutputArea', handleAddOutput);\n\n    /**\n     * Register the mime type and append_mime function with output_area\n     */\n    OutputArea.prototype.register_mime_type(EXEC_MIME_TYPE, append_mime, {\n      /* Is output safe? */\n      safe: true,\n      /* Index of renderer in `output_area.display_order` */\n      index: 0\n    });\n  }\n\n  // register the mime type if in Jupyter Notebook environment and previously unregistered\n  if (root.Jupyter !== undefined) {\n    const events = require('base/js/events');\n    const OutputArea = require('notebook/js/outputarea').OutputArea;\n\n    if (OutputArea.prototype.mime_types().indexOf(EXEC_MIME_TYPE) == -1) {\n      register_renderer(events, OutputArea);\n    }\n  }\n  if (typeof (root._bokeh_timeout) === \"undefined\" || force === true) {\n    root._bokeh_timeout = Date.now() + 5000;\n    root._bokeh_failed_load = false;\n  }\n\n  const NB_LOAD_WARNING = {'data': {'text/html':\n     \"<div style='background-color: #fdd'>\\n\"+\n     \"<p>\\n\"+\n     \"BokehJS does not appear to have successfully loaded. If loading BokehJS from CDN, this \\n\"+\n     \"may be due to a slow or bad network connection. Possible fixes:\\n\"+\n     \"</p>\\n\"+\n     \"<ul>\\n\"+\n     \"<li>re-rerun `output_notebook()` to attempt to load from CDN again, or</li>\\n\"+\n     \"<li>use INLINE resources instead, as so:</li>\\n\"+\n     \"</ul>\\n\"+\n     \"<code>\\n\"+\n     \"from bokeh.resources import INLINE\\n\"+\n     \"output_notebook(resources=INLINE)\\n\"+\n     \"</code>\\n\"+\n     \"</div>\"}};\n\n  function display_loaded() {\n    const el = document.getElementById(\"p1001\");\n    if (el != null) {\n      el.textContent = \"BokehJS is loading...\";\n    }\n    if (root.Bokeh !== undefined) {\n      if (el != null) {\n        el.textContent = \"BokehJS \" + root.Bokeh.version + \" successfully loaded.\";\n      }\n    } else if (Date.now() < root._bokeh_timeout) {\n      setTimeout(display_loaded, 100)\n    }\n  }\n\n  function run_callbacks() {\n    try {\n      root._bokeh_onload_callbacks.forEach(function(callback) {\n        if (callback != null)\n          callback();\n      });\n    } finally {\n      delete root._bokeh_onload_callbacks\n    }\n    console.debug(\"Bokeh: all callbacks have finished\");\n  }\n\n  function load_libs(css_urls, js_urls, callback) {\n    if (css_urls == null) css_urls = [];\n    if (js_urls == null) js_urls = [];\n\n    root._bokeh_onload_callbacks.push(callback);\n    if (root._bokeh_is_loading > 0) {\n      console.debug(\"Bokeh: BokehJS is being loaded, scheduling callback at\", now());\n      return null;\n    }\n    if (js_urls == null || js_urls.length === 0) {\n      run_callbacks();\n      return null;\n    }\n    console.debug(\"Bokeh: BokehJS not loaded, scheduling load and callback at\", now());\n    root._bokeh_is_loading = css_urls.length + js_urls.length;\n\n    function on_load() {\n      root._bokeh_is_loading--;\n      if (root._bokeh_is_loading === 0) {\n        console.debug(\"Bokeh: all BokehJS libraries/stylesheets loaded\");\n        run_callbacks()\n      }\n    }\n\n    function on_error(url) {\n      console.error(\"failed to load \" + url);\n    }\n\n    for (let i = 0; i < css_urls.length; i++) {\n      const url = css_urls[i];\n      const element = document.createElement(\"link\");\n      element.onload = on_load;\n      element.onerror = on_error.bind(null, url);\n      element.rel = \"stylesheet\";\n      element.type = \"text/css\";\n      element.href = url;\n      console.debug(\"Bokeh: injecting link tag for BokehJS stylesheet: \", url);\n      document.body.appendChild(element);\n    }\n\n    for (let i = 0; i < js_urls.length; i++) {\n      const url = js_urls[i];\n      const element = document.createElement('script');\n      element.onload = on_load;\n      element.onerror = on_error.bind(null, url);\n      element.async = false;\n      element.src = url;\n      console.debug(\"Bokeh: injecting script tag for BokehJS library: \", url);\n      document.head.appendChild(element);\n    }\n  };\n\n  function inject_raw_css(css) {\n    const element = document.createElement(\"style\");\n    element.appendChild(document.createTextNode(css));\n    document.body.appendChild(element);\n  }\n\n  const js_urls = [\"https://cdn.bokeh.org/bokeh/release/bokeh-3.0.3.min.js\", \"https://cdn.bokeh.org/bokeh/release/bokeh-gl-3.0.3.min.js\", \"https://cdn.bokeh.org/bokeh/release/bokeh-widgets-3.0.3.min.js\", \"https://cdn.bokeh.org/bokeh/release/bokeh-tables-3.0.3.min.js\", \"https://cdn.bokeh.org/bokeh/release/bokeh-mathjax-3.0.3.min.js\"];\n  const css_urls = [];\n\n  const inline_js = [    function(Bokeh) {\n      Bokeh.set_log_level(\"info\");\n    },\nfunction(Bokeh) {\n    }\n  ];\n\n  function run_inline_js() {\n    if (root.Bokeh !== undefined || force === true) {\n          for (let i = 0; i < inline_js.length; i++) {\n      inline_js[i].call(root, root.Bokeh);\n    }\nif (force === true) {\n        display_loaded();\n      }} else if (Date.now() < root._bokeh_timeout) {\n      setTimeout(run_inline_js, 100);\n    } else if (!root._bokeh_failed_load) {\n      console.log(\"Bokeh: BokehJS failed to load within specified timeout.\");\n      root._bokeh_failed_load = true;\n    } else if (force !== true) {\n      const cell = $(document.getElementById(\"p1001\")).parents('.cell').data().cell;\n      cell.output_area.append_execute_result(NB_LOAD_WARNING)\n    }\n  }\n\n  if (root._bokeh_is_loading === 0) {\n    console.debug(\"Bokeh: BokehJS loaded, going straight to plotting\");\n    run_inline_js();\n  } else {\n    load_libs(css_urls, js_urls, function() {\n      console.debug(\"Bokeh: BokehJS plotting callback run at\", now());\n      run_inline_js();\n    });\n  }\n}(window));",
      "application/vnd.bokehjs_load.v0+json": ""
     },
     "metadata": {},
     "output_type": "display_data"
    }
   ],
   "source": [
    "import pandas as pd\n",
    "import numpy as np\n",
    "import yaml\n",
    "from bokeh.io import output_notebook\n",
    "from bokeh.plotting import ColumnDataSource\n",
    "from bokeh.palettes import Bright6\n",
    "from bokeh.plotting import figure, show, output_notebook\n",
    "from bokeh.palettes import HighContrast3\n",
    "from functools import reduce\n",
    "from bokeh.palettes import Spectral\n",
    "from bokeh.palettes import Greys256, Inferno256, Magma256,Plasma256\n",
    "from bokeh.palettes import Viridis256, Cividis256, Turbo256\n",
    "from bokeh.transform import dodge\n",
    "from bokeh.models import TabPanel, Tabs\n",
    "\n",
    "output_notebook()"
   ]
  },
  {
   "attachments": {},
   "cell_type": "markdown",
   "metadata": {},
   "source": [
    "### Load and select Data"
   ]
  },
  {
   "cell_type": "code",
   "execution_count": 2,
   "metadata": {},
   "outputs": [],
   "source": [
    "# load config file\n",
    "def get_config():\n",
    "    with open(\"Final_Assignment2.yaml\", 'r') as stream:\n",
    "        config = yaml.safe_load(stream)\n",
    "    return config\n",
    "config = get_config()\n",
    "\n",
    "#load and read data frames\n",
    "Child1Genome = config[\"Child1Genome\"]\n",
    "Child2Genome = config[\"Child2Genome\"]\n",
    "Child3Genome = config[\"Child3Genome\"]\n",
    "FatherGenome = config[\"FatherGenome\"]\n",
    "MotherGenome = config[\"MotherGenome\"]\n",
    "\n",
    "#useing low_memory=False because the Data for each column is very memory demanding.\n",
    "df_Child1Genome = pd.read_csv(Child1Genome, low_memory=False)\n",
    "df_Child2Genome = pd.read_csv(Child2Genome, low_memory=False)\n",
    "df_Child3Genome = pd.read_csv(Child3Genome, low_memory=False)\n",
    "df_FatherGenome = pd.read_csv(FatherGenome, low_memory=False)\n",
    "df_MotherGenome = pd.read_csv(MotherGenome, low_memory=False)"
   ]
  },
  {
   "attachments": {},
   "cell_type": "markdown",
   "metadata": {},
   "source": [
    "#### lets take a look at the data"
   ]
  },
  {
   "cell_type": "code",
   "execution_count": 3,
   "metadata": {},
   "outputs": [
    {
     "name": "stdout",
     "output_type": "stream",
     "text": [
      "        # rsid chromosome  position genotype\n",
      "0   rs12564807          1    734462       AA\n",
      "1    rs3131972          1    752721       AG\n",
      "2  rs148828841          1    760998       AC\n",
      "3   rs12124819          1    776546       AG\n",
      "4  rs115093905          1    787173       GG\n",
      "        # rsid chromosome  position genotype\n",
      "0  rs548049170          1     69869       TT\n",
      "1    rs9283150          1    565508       AA\n",
      "2  rs116587930          1    727841       GG\n",
      "3    rs3131972          1    752721       GG\n",
      "4   rs12184325          1    754105       CC\n",
      "        # rsid chromosome  position genotype\n",
      "0   rs12564807          1    734462       AA\n",
      "1    rs3131972          1    752721       AG\n",
      "2  rs148828841          1    760998       AC\n",
      "3   rs12124819          1    776546       AA\n",
      "4  rs115093905          1    787173       GG\n",
      "<class 'pandas.core.frame.DataFrame'>\n",
      "RangeIndex: 601802 entries, 0 to 601801\n",
      "Data columns (total 4 columns):\n",
      " #   Column      Non-Null Count   Dtype \n",
      "---  ------      --------------   ----- \n",
      " 0   # rsid      601802 non-null  object\n",
      " 1   chromosome  601802 non-null  object\n",
      " 2   position    601802 non-null  int64 \n",
      " 3   genotype    601802 non-null  object\n",
      "dtypes: int64(1), object(3)\n",
      "memory usage: 18.4+ MB\n"
     ]
    }
   ],
   "source": [
    "# Monitoring Data\n",
    "print(df_Child1Genome.head())\n",
    "print(df_Child2Genome.head())\n",
    "print(df_FatherGenome.head())\n",
    "df_Child1Genome.describe()\n",
    "df_Child1Genome.info()"
   ]
  },
  {
   "attachments": {},
   "cell_type": "markdown",
   "metadata": {},
   "source": [
    "### Data Preproccessing"
   ]
  },
  {
   "attachments": {},
   "cell_type": "markdown",
   "metadata": {},
   "source": [
    "#### Noise Detection\n",
    "As we know genotype should be charectors."
   ]
  },
  {
   "cell_type": "code",
   "execution_count": 4,
   "metadata": {},
   "outputs": [
    {
     "name": "stdout",
     "output_type": "stream",
     "text": [
      "51        --\n",
      "113       --\n",
      "114       --\n",
      "117       --\n",
      "128       --\n",
      "          ..\n",
      "601748    --\n",
      "601749    --\n",
      "601772    --\n",
      "601776    --\n",
      "601777    --\n",
      "Name: genotype, Length: 9224, dtype: object\n",
      "115       --\n",
      "125       --\n",
      "194       --\n",
      "238       --\n",
      "266       --\n",
      "          ..\n",
      "631905    --\n",
      "631906    --\n",
      "631907    --\n",
      "631965    --\n",
      "631966    --\n",
      "Name: genotype, Length: 14590, dtype: object\n",
      "64        --\n",
      "115       --\n",
      "125       --\n",
      "151       --\n",
      "194       --\n",
      "          ..\n",
      "631889    --\n",
      "631890    --\n",
      "631905    --\n",
      "631906    --\n",
      "631907    --\n",
      "Name: genotype, Length: 16025, dtype: object\n",
      "51        --\n",
      "128       --\n",
      "158       --\n",
      "166       --\n",
      "171       --\n",
      "          ..\n",
      "601747    --\n",
      "601748    --\n",
      "601749    --\n",
      "601772    --\n",
      "601773    --\n",
      "Name: genotype, Length: 6616, dtype: object\n",
      "32        --\n",
      "51        --\n",
      "53        --\n",
      "110       --\n",
      "111       --\n",
      "          ..\n",
      "601747    --\n",
      "601748    --\n",
      "601749    --\n",
      "601772    --\n",
      "601773    --\n",
      "Name: genotype, Length: 11643, dtype: object\n"
     ]
    }
   ],
   "source": [
    "# finding noise value\n",
    "print(df_Child1Genome[~df_Child1Genome['genotype'].str.isalpha()].genotype)\n",
    "print(df_Child2Genome[~df_Child2Genome['genotype'].str.isalpha()].genotype)\n",
    "print(df_Child3Genome[~df_Child3Genome['genotype'].str.isalpha()].genotype)\n",
    "print(df_FatherGenome[~df_FatherGenome['genotype'].str.isalpha()].genotype)\n",
    "print(df_MotherGenome[~df_MotherGenome['genotype'].str.isalpha()].genotype)\n"
   ]
  },
  {
   "attachments": {},
   "cell_type": "markdown",
   "metadata": {},
   "source": [
    "#### Noise Management\n",
    "I replace the noise value to null. So I manage miss value later"
   ]
  },
  {
   "cell_type": "code",
   "execution_count": 5,
   "metadata": {},
   "outputs": [],
   "source": [
    "# replace noise value to null\n",
    "\n",
    "df_Child1Genome = df_Child1Genome.replace('--', np.nan)\n",
    "df_Child2Genome = df_Child2Genome.replace('--', np.nan)\n",
    "df_Child3Genome = df_Child3Genome.replace('--', np.nan)\n",
    "df_FatherGenome = df_FatherGenome.replace('--', np.nan)\n",
    "df_MotherGenome = df_MotherGenome.replace('--', np.nan)\n"
   ]
  },
  {
   "attachments": {},
   "cell_type": "markdown",
   "metadata": {},
   "source": [
    "#### Miss value detection\n",
    "Finding miss values"
   ]
  },
  {
   "cell_type": "code",
   "execution_count": 6,
   "metadata": {},
   "outputs": [
    {
     "name": "stdout",
     "output_type": "stream",
     "text": [
      "1.532730034130827\n",
      "2.3086064023874058\n",
      "2.5356694721218767\n",
      "1.0993649073947909\n",
      "1.842296390883932\n"
     ]
    }
   ],
   "source": [
    "# percentage of each dataset miss values\n",
    "\n",
    "print(len(df_Child1Genome[df_Child1Genome['genotype'].isna()])/len(df_Child1Genome['genotype'])* 100)\n",
    "print(len(df_Child2Genome[df_Child2Genome['genotype'].isna()])/len(df_Child2Genome['genotype'])* 100)\n",
    "print(len(df_Child3Genome[df_Child3Genome['genotype'].isna()])/len(df_Child3Genome['genotype'])* 100)\n",
    "print(len(df_FatherGenome[df_FatherGenome['genotype'].isna()])/len(df_FatherGenome['genotype'])* 100)\n",
    "print(len(df_MotherGenome[df_MotherGenome['genotype'].isna()])/len(df_Child3Genome['genotype'])* 100)"
   ]
  },
  {
   "attachments": {},
   "cell_type": "markdown",
   "metadata": {},
   "source": [
    "#### Miss value Management\n",
    "Becuase the proportion of missing Data are less than 3 Persent, these would be droped"
   ]
  },
  {
   "cell_type": "code",
   "execution_count": 7,
   "metadata": {},
   "outputs": [],
   "source": [
    "# drop all miss values\n",
    "df_Child1Genome = df_Child1Genome.dropna()\n",
    "df_Child2Genome = df_Child2Genome.dropna()\n",
    "df_Child3Genome = df_Child3Genome.dropna()\n",
    "df_FatherGenome = df_FatherGenome.dropna()\n",
    "df_MotherGenome = df_MotherGenome.dropna()"
   ]
  },
  {
   "attachments": {},
   "cell_type": "markdown",
   "metadata": {},
   "source": [
    "### Data Analysis\n",
    "To analysis similarity i should do flow road map.\n",
    "- Data prepration\n",
    "- Calculation similarity of each row\n",
    "- aggrigation and visualization"
   ]
  },
  {
   "attachments": {},
   "cell_type": "markdown",
   "metadata": {},
   "source": [
    "#### Data prepration\n",
    "- rearrenge columns\n",
    "- rename columns\n",
    "- merge dafa frames"
   ]
  },
  {
   "cell_type": "code",
   "execution_count": 8,
   "metadata": {},
   "outputs": [],
   "source": [
    "#rearrenge the order of columns:\n",
    "df_Child1Genome = df_Child1Genome[['chromosome', 'position', '# rsid', 'genotype']]\n",
    "df_Child2Genome = df_Child2Genome[['chromosome', 'position', '# rsid', 'genotype']]\n",
    "df_Child3Genome = df_Child3Genome[['chromosome', 'position', '# rsid', 'genotype']]\n",
    "df_FatherGenome = df_FatherGenome[['chromosome', 'position', '# rsid', 'genotype']]\n",
    "df_MotherGenome = df_MotherGenome[['chromosome', 'position', '# rsid', 'genotype']]\n",
    "\n",
    "#renamed columns:\n",
    "df_Child1Genome = df_Child1Genome.rename(columns={\"# rsid\":\"rsid_child1\",\"genotype\":\"genotype_child1\"})\n",
    "df_Child2Genome = df_Child2Genome.rename(columns={\"# rsid\":\"rsid_child2\",\"genotype\":\"genotype_child2\"})\n",
    "df_Child3Genome = df_Child3Genome.rename(columns={\"# rsid\":\"rsid_child3\",\"genotype\":\"genotype_child3\"})\n",
    "df_FatherGenome = df_FatherGenome.rename(columns={\"# rsid\":\"rsid_father\",\"genotype\":\"genotype_father\"})\n",
    "df_MotherGenome = df_MotherGenome.rename(columns={\"# rsid\":\"rsid_mother\",\"genotype\":\"genotype_mother\"})\n",
    "\n",
    "#print(df_Child1Genome.info())\n",
    "#print(df_Child2Genome.info())\n",
    "#print(df_Child3Genome.info())\n",
    "#print(df_FatherGenome.info())\n",
    "#print(df_MotherGenome.info())\n",
    "\n",
    "# merge child to parent\n",
    "Father_children_Genome = pd.merge(df_FatherGenome,df_Child1Genome,on=[\"chromosome\",\"position\"])\n",
    "Father_children_Genome = pd.merge(Father_children_Genome,df_Child2Genome,on=[\"chromosome\",\"position\"])\n",
    "Father_children_Genome = pd.merge(Father_children_Genome,df_Child3Genome,on=[\"chromosome\",\"position\"]) \n",
    "\n",
    "# merge child to parent\n",
    "Mother_children_Genome = pd.merge(df_MotherGenome,df_Child1Genome,on=[\"chromosome\",\"position\"])\n",
    "Mother_children_Genome = pd.merge(Mother_children_Genome,df_Child2Genome,on=[\"chromosome\",\"position\"])\n",
    "Mother_children_Genome = pd.merge(Mother_children_Genome,df_Child3Genome,on=[\"chromosome\",\"position\"])"
   ]
  },
  {
   "cell_type": "code",
   "execution_count": 9,
   "metadata": {},
   "outputs": [
    {
     "data": {
      "text/html": [
       "<div>\n",
       "<style scoped>\n",
       "    .dataframe tbody tr th:only-of-type {\n",
       "        vertical-align: middle;\n",
       "    }\n",
       "\n",
       "    .dataframe tbody tr th {\n",
       "        vertical-align: top;\n",
       "    }\n",
       "\n",
       "    .dataframe thead th {\n",
       "        text-align: right;\n",
       "    }\n",
       "</style>\n",
       "<table border=\"1\" class=\"dataframe\">\n",
       "  <thead>\n",
       "    <tr style=\"text-align: right;\">\n",
       "      <th></th>\n",
       "      <th>chromosome</th>\n",
       "      <th>position</th>\n",
       "      <th>rsid_father</th>\n",
       "      <th>genotype_father</th>\n",
       "      <th>rsid_child1</th>\n",
       "      <th>genotype_child1</th>\n",
       "      <th>rsid_child2</th>\n",
       "      <th>genotype_child2</th>\n",
       "      <th>rsid_child3</th>\n",
       "      <th>genotype_child3</th>\n",
       "    </tr>\n",
       "  </thead>\n",
       "  <tbody>\n",
       "    <tr>\n",
       "      <th>0</th>\n",
       "      <td>1</td>\n",
       "      <td>752721</td>\n",
       "      <td>rs3131972</td>\n",
       "      <td>AG</td>\n",
       "      <td>rs3131972</td>\n",
       "      <td>AG</td>\n",
       "      <td>rs3131972</td>\n",
       "      <td>GG</td>\n",
       "      <td>rs3131972</td>\n",
       "      <td>GG</td>\n",
       "    </tr>\n",
       "    <tr>\n",
       "      <th>1</th>\n",
       "      <td>1</td>\n",
       "      <td>776546</td>\n",
       "      <td>rs12124819</td>\n",
       "      <td>AA</td>\n",
       "      <td>rs12124819</td>\n",
       "      <td>AG</td>\n",
       "      <td>rs12124819</td>\n",
       "      <td>AA</td>\n",
       "      <td>rs12124819</td>\n",
       "      <td>AG</td>\n",
       "    </tr>\n",
       "    <tr>\n",
       "      <th>2</th>\n",
       "      <td>1</td>\n",
       "      <td>824398</td>\n",
       "      <td>rs7538305</td>\n",
       "      <td>AA</td>\n",
       "      <td>rs7538305</td>\n",
       "      <td>AA</td>\n",
       "      <td>rs7538305</td>\n",
       "      <td>AA</td>\n",
       "      <td>rs7538305</td>\n",
       "      <td>AA</td>\n",
       "    </tr>\n",
       "    <tr>\n",
       "      <th>3</th>\n",
       "      <td>1</td>\n",
       "      <td>846808</td>\n",
       "      <td>rs4475691</td>\n",
       "      <td>TT</td>\n",
       "      <td>rs4475691</td>\n",
       "      <td>CT</td>\n",
       "      <td>rs4475691</td>\n",
       "      <td>TT</td>\n",
       "      <td>rs4475691</td>\n",
       "      <td>CT</td>\n",
       "    </tr>\n",
       "    <tr>\n",
       "      <th>4</th>\n",
       "      <td>1</td>\n",
       "      <td>854250</td>\n",
       "      <td>rs7537756</td>\n",
       "      <td>GG</td>\n",
       "      <td>rs7537756</td>\n",
       "      <td>AG</td>\n",
       "      <td>rs7537756</td>\n",
       "      <td>GG</td>\n",
       "      <td>rs7537756</td>\n",
       "      <td>AG</td>\n",
       "    </tr>\n",
       "  </tbody>\n",
       "</table>\n",
       "</div>"
      ],
      "text/plain": [
       "  chromosome  position rsid_father genotype_father rsid_child1  \\\n",
       "0          1    752721   rs3131972              AG   rs3131972   \n",
       "1          1    776546  rs12124819              AA  rs12124819   \n",
       "2          1    824398   rs7538305              AA   rs7538305   \n",
       "3          1    846808   rs4475691              TT   rs4475691   \n",
       "4          1    854250   rs7537756              GG   rs7537756   \n",
       "\n",
       "  genotype_child1 rsid_child2 genotype_child2 rsid_child3 genotype_child3  \n",
       "0              AG   rs3131972              GG   rs3131972              GG  \n",
       "1              AG  rs12124819              AA  rs12124819              AG  \n",
       "2              AA   rs7538305              AA   rs7538305              AA  \n",
       "3              CT   rs4475691              TT   rs4475691              CT  \n",
       "4              AG   rs7537756              GG   rs7537756              AG  "
      ]
     },
     "execution_count": 9,
     "metadata": {},
     "output_type": "execute_result"
    }
   ],
   "source": [
    "Father_children_Genome.head(5)"
   ]
  },
  {
   "cell_type": "code",
   "execution_count": 10,
   "metadata": {},
   "outputs": [
    {
     "data": {
      "text/html": [
       "<div>\n",
       "<style scoped>\n",
       "    .dataframe tbody tr th:only-of-type {\n",
       "        vertical-align: middle;\n",
       "    }\n",
       "\n",
       "    .dataframe tbody tr th {\n",
       "        vertical-align: top;\n",
       "    }\n",
       "\n",
       "    .dataframe thead th {\n",
       "        text-align: right;\n",
       "    }\n",
       "</style>\n",
       "<table border=\"1\" class=\"dataframe\">\n",
       "  <thead>\n",
       "    <tr style=\"text-align: right;\">\n",
       "      <th></th>\n",
       "      <th>chromosome</th>\n",
       "      <th>position</th>\n",
       "      <th>rsid_mother</th>\n",
       "      <th>genotype_mother</th>\n",
       "      <th>rsid_child1</th>\n",
       "      <th>genotype_child1</th>\n",
       "      <th>rsid_child2</th>\n",
       "      <th>genotype_child2</th>\n",
       "      <th>rsid_child3</th>\n",
       "      <th>genotype_child3</th>\n",
       "    </tr>\n",
       "  </thead>\n",
       "  <tbody>\n",
       "    <tr>\n",
       "      <th>0</th>\n",
       "      <td>1</td>\n",
       "      <td>752721</td>\n",
       "      <td>rs3131972</td>\n",
       "      <td>GG</td>\n",
       "      <td>rs3131972</td>\n",
       "      <td>AG</td>\n",
       "      <td>rs3131972</td>\n",
       "      <td>GG</td>\n",
       "      <td>rs3131972</td>\n",
       "      <td>GG</td>\n",
       "    </tr>\n",
       "    <tr>\n",
       "      <th>1</th>\n",
       "      <td>1</td>\n",
       "      <td>776546</td>\n",
       "      <td>rs12124819</td>\n",
       "      <td>AG</td>\n",
       "      <td>rs12124819</td>\n",
       "      <td>AG</td>\n",
       "      <td>rs12124819</td>\n",
       "      <td>AA</td>\n",
       "      <td>rs12124819</td>\n",
       "      <td>AG</td>\n",
       "    </tr>\n",
       "    <tr>\n",
       "      <th>2</th>\n",
       "      <td>1</td>\n",
       "      <td>824398</td>\n",
       "      <td>rs7538305</td>\n",
       "      <td>AA</td>\n",
       "      <td>rs7538305</td>\n",
       "      <td>AA</td>\n",
       "      <td>rs7538305</td>\n",
       "      <td>AA</td>\n",
       "      <td>rs7538305</td>\n",
       "      <td>AA</td>\n",
       "    </tr>\n",
       "    <tr>\n",
       "      <th>3</th>\n",
       "      <td>1</td>\n",
       "      <td>846808</td>\n",
       "      <td>rs4475691</td>\n",
       "      <td>CT</td>\n",
       "      <td>rs4475691</td>\n",
       "      <td>CT</td>\n",
       "      <td>rs4475691</td>\n",
       "      <td>TT</td>\n",
       "      <td>rs4475691</td>\n",
       "      <td>CT</td>\n",
       "    </tr>\n",
       "    <tr>\n",
       "      <th>4</th>\n",
       "      <td>1</td>\n",
       "      <td>854250</td>\n",
       "      <td>rs7537756</td>\n",
       "      <td>AG</td>\n",
       "      <td>rs7537756</td>\n",
       "      <td>AG</td>\n",
       "      <td>rs7537756</td>\n",
       "      <td>GG</td>\n",
       "      <td>rs7537756</td>\n",
       "      <td>AG</td>\n",
       "    </tr>\n",
       "  </tbody>\n",
       "</table>\n",
       "</div>"
      ],
      "text/plain": [
       "  chromosome  position rsid_mother genotype_mother rsid_child1  \\\n",
       "0          1    752721   rs3131972              GG   rs3131972   \n",
       "1          1    776546  rs12124819              AG  rs12124819   \n",
       "2          1    824398   rs7538305              AA   rs7538305   \n",
       "3          1    846808   rs4475691              CT   rs4475691   \n",
       "4          1    854250   rs7537756              AG   rs7537756   \n",
       "\n",
       "  genotype_child1 rsid_child2 genotype_child2 rsid_child3 genotype_child3  \n",
       "0              AG   rs3131972              GG   rs3131972              GG  \n",
       "1              AG  rs12124819              AA  rs12124819              AG  \n",
       "2              AA   rs7538305              AA   rs7538305              AA  \n",
       "3              CT   rs4475691              TT   rs4475691              CT  \n",
       "4              AG   rs7537756              GG   rs7537756              AG  "
      ]
     },
     "execution_count": 10,
     "metadata": {},
     "output_type": "execute_result"
    }
   ],
   "source": [
    "Mother_children_Genome.head(5)"
   ]
  },
  {
   "attachments": {},
   "cell_type": "markdown",
   "metadata": {},
   "source": [
    "#### Calculation similarity of each row"
   ]
  },
  {
   "cell_type": "code",
   "execution_count": 11,
   "metadata": {},
   "outputs": [],
   "source": [
    "#similarity analysis by using Definition on Datasets\n",
    "# ============== Father similarity ===============\n",
    "def Father_similarity_child1(df):\n",
    "    if df[\"genotype_father\"] == df[\"genotype_child1\"]:\n",
    "        similarity_child1 = 1\n",
    "    else:\n",
    "        similarity_child1 = 0\n",
    "    return similarity_child1 \n",
    "       \n",
    "def Father_similarity_child2(df):\n",
    "    if df[\"genotype_father\"] == df[\"genotype_child2\"]:\n",
    "        similarity_child2 = 1\n",
    "    else:\n",
    "        similarity_child2 = 0\n",
    "    return similarity_child2 \n",
    "\n",
    "def Father_similarity_child3(df):\n",
    "    if df[\"genotype_father\"] == df[\"genotype_child3\"]:\n",
    "        similarity_child3 = 1\n",
    "    else:\n",
    "        similarity_child3 = 0\n",
    "    return similarity_child3 \n",
    "\n",
    "Father_children_Genome[\"Father_similarity_child1\"] = Father_children_Genome.apply(Father_similarity_child1,axis=1) \n",
    "Father_children_Genome[\"Father_similarity_child2\"] = Father_children_Genome.apply(Father_similarity_child2,axis=1)  \n",
    "Father_children_Genome[\"Father_similarity_child3\"] = Father_children_Genome.apply(Father_similarity_child3,axis=1)   \n",
    "\n",
    "# ============== Mother similarity ===============\n",
    "def Mother_similarity_child1(df):\n",
    "    if df[\"genotype_mother\"] == df[\"genotype_child1\"]:\n",
    "        similarity_child1 = 1\n",
    "    else:\n",
    "        similarity_child1 = 0\n",
    "    return similarity_child1 \n",
    "       \n",
    "def Mother_similarity_child2(df):\n",
    "    if df[\"genotype_mother\"] == df[\"genotype_child2\"]:\n",
    "        similarity_child2 = 1\n",
    "    else:\n",
    "        similarity_child2 = 0\n",
    "    return similarity_child2 \n",
    "\n",
    "def Mother_similarity_child3(df):\n",
    "    if df[\"genotype_mother\"] == df[\"genotype_child3\"]:\n",
    "        similarity_child3 = 1\n",
    "    else:\n",
    "        similarity_child3 = 0\n",
    "    return similarity_child3 \n",
    "\n",
    "Mother_children_Genome[\"Mother_similarity_child1\"] = Mother_children_Genome.apply(Mother_similarity_child1,axis=1) \n",
    "Mother_children_Genome[\"Mother_similarity_child2\"] = Mother_children_Genome.apply(Mother_similarity_child2,axis=1)  \n",
    "Mother_children_Genome[\"Mother_similarity_child3\"] = Mother_children_Genome.apply(Mother_similarity_child3,axis=1)"
   ]
  },
  {
   "attachments": {},
   "cell_type": "markdown",
   "metadata": {},
   "source": [
    "#### Visualizing Data\n",
    "for the finding result, use bar chart with 3 value for 3 children"
   ]
  },
  {
   "cell_type": "code",
   "execution_count": 12,
   "metadata": {},
   "outputs": [],
   "source": [
    "# aggrigate data\n",
    "\n",
    "Father_children_Genome = Father_children_Genome.groupby(\"chromosome\",as_index=False).aggregate({'Father_similarity_child1':'sum','Father_similarity_child2':'sum','Father_similarity_child3':'sum'})\n",
    "Mother_children_Genome = Mother_children_Genome.groupby(\"chromosome\",as_index=False).aggregate({'Mother_similarity_child1':'sum','Mother_similarity_child2':'sum','Mother_similarity_child3':'sum'})"
   ]
  },
  {
   "cell_type": "code",
   "execution_count": 13,
   "metadata": {},
   "outputs": [
    {
     "data": {
      "text/html": [
       "\n",
       "  <div id=\"5fa82ce2-c38e-4354-96aa-7f9af81b3d16\" data-root-id=\"p1232\" style=\"display: contents;\"></div>\n"
      ]
     },
     "metadata": {},
     "output_type": "display_data"
    },
    {
     "data": {
      "application/javascript": "(function(root) {\n  function embed_document(root) {\n  const docs_json = {\"b1ab9603-02dc-4a61-8859-929779d78e9f\":{\"version\":\"3.0.3\",\"title\":\"Bokeh Application\",\"defs\":[],\"roots\":[{\"type\":\"object\",\"name\":\"Tabs\",\"id\":\"p1232\",\"attributes\":{\"tabs\":[{\"type\":\"object\",\"name\":\"TabPanel\",\"id\":\"p1230\",\"attributes\":{\"title\":\"Father similarity\",\"child\":{\"type\":\"object\",\"name\":\"Figure\",\"id\":\"p1005\",\"attributes\":{\"width\":1000,\"height\":500,\"x_range\":{\"type\":\"object\",\"name\":\"FactorRange\",\"id\":\"p1015\",\"attributes\":{\"factors\":[\"1\",\"10\",\"11\",\"12\",\"13\",\"14\",\"15\",\"16\",\"17\",\"18\",\"19\",\"2\",\"20\",\"21\",\"22\",\"3\",\"4\",\"5\",\"6\",\"7\",\"8\",\"9\",\"MT\",\"X\",\"Y\"],\"range_padding\":0.1}},\"y_range\":{\"type\":\"object\",\"name\":\"DataRange1d\",\"id\":\"p1007\"},\"x_scale\":{\"type\":\"object\",\"name\":\"CategoricalScale\",\"id\":\"p1019\"},\"y_scale\":{\"type\":\"object\",\"name\":\"LinearScale\",\"id\":\"p1021\"},\"title\":{\"type\":\"object\",\"name\":\"Title\",\"id\":\"p1008\",\"attributes\":{\"text\":\"Similarity between children and father\"}},\"renderers\":[{\"type\":\"object\",\"name\":\"GlyphRenderer\",\"id\":\"p1044\",\"attributes\":{\"data_source\":{\"type\":\"object\",\"name\":\"ColumnDataSource\",\"id\":\"p1002\",\"attributes\":{\"selected\":{\"type\":\"object\",\"name\":\"Selection\",\"id\":\"p1004\",\"attributes\":{\"indices\":[],\"line_indices\":[]}},\"selection_policy\":{\"type\":\"object\",\"name\":\"UnionRenderers\",\"id\":\"p1003\"},\"data\":{\"type\":\"map\",\"entries\":[[\"Similarity\",{\"type\":\"ndarray\",\"array\":[\"1\",\"10\",\"11\",\"12\",\"13\",\"14\",\"15\",\"16\",\"17\",\"18\",\"19\",\"2\",\"20\",\"21\",\"22\",\"3\",\"4\",\"5\",\"6\",\"7\",\"8\",\"9\",\"MT\",\"X\",\"Y\"],\"shape\":[25],\"dtype\":\"object\",\"order\":\"little\"}],[\"Child1\",{\"type\":\"ndarray\",\"array\":{\"type\":\"bytes\",\"data\":\"gBgAAIAOAADtDwAAMA8AABcLAABzCgAAXAkAAEAKAADmCQAAyggAAIgJAAC0FwAAZgcAAJEEAACwBAAAlBMAAAIRAAA9EAAALhgAABQRAADaDgAA1QwAAExuAAB9CAAAygoAAA==\"},\"shape\":[25],\"dtype\":\"int32\",\"order\":\"little\"}],[\"Child2\",{\"type\":\"ndarray\",\"array\":{\"type\":\"bytes\",\"data\":\"fhgAAKwOAAAiEAAAAA8AABMLAACbCgAAQQkAAGcKAAAwCgAAaAgAANsJAADGFwAAVgcAAGwEAAC9BAAAshMAADkRAAA9EAAAYxcAAOIQAADiDgAAyQwAAFBuAABRCAAAygoAAA==\"},\"shape\":[25],\"dtype\":\"int32\",\"order\":\"little\"}],[\"Child3\",{\"type\":\"ndarray\",\"array\":{\"type\":\"bytes\",\"data\":\"mBgAALEOAADqDwAAtQ4AAO0KAACJCgAAcAkAADsKAAAvCgAAiggAAJoJAADWFwAAPgcAAGoEAAACBQAAdhMAAB8RAABKEAAA0RcAACsRAADpDgAAIw0AAFBuAACMCAAAygoAAA==\"},\"shape\":[25],\"dtype\":\"int32\",\"order\":\"little\"}]]}}},\"view\":{\"type\":\"object\",\"name\":\"CDSView\",\"id\":\"p1045\",\"attributes\":{\"filter\":{\"type\":\"object\",\"name\":\"AllIndices\",\"id\":\"p1046\"}}},\"glyph\":{\"type\":\"object\",\"name\":\"VBar\",\"id\":\"p1041\",\"attributes\":{\"x\":{\"type\":\"field\",\"field\":\"Similarity\",\"transform\":{\"type\":\"object\",\"name\":\"Dodge\",\"id\":\"p1037\",\"attributes\":{\"value\":-0.25,\"range\":{\"id\":\"p1015\"}}}},\"width\":{\"type\":\"value\",\"value\":0.2},\"top\":{\"type\":\"field\",\"field\":\"Child1\"},\"line_color\":{\"type\":\"value\",\"value\":\"#e84d60\"},\"fill_color\":{\"type\":\"value\",\"value\":\"#e84d60\"},\"hatch_color\":{\"type\":\"value\",\"value\":\"#e84d60\"}}},\"nonselection_glyph\":{\"type\":\"object\",\"name\":\"VBar\",\"id\":\"p1042\",\"attributes\":{\"x\":{\"type\":\"field\",\"field\":\"Similarity\",\"transform\":{\"id\":\"p1037\"}},\"width\":{\"type\":\"value\",\"value\":0.2},\"top\":{\"type\":\"field\",\"field\":\"Child1\"},\"line_color\":{\"type\":\"value\",\"value\":\"#e84d60\"},\"line_alpha\":{\"type\":\"value\",\"value\":0.1},\"fill_color\":{\"type\":\"value\",\"value\":\"#e84d60\"},\"fill_alpha\":{\"type\":\"value\",\"value\":0.1},\"hatch_color\":{\"type\":\"value\",\"value\":\"#e84d60\"},\"hatch_alpha\":{\"type\":\"value\",\"value\":0.1}}},\"muted_glyph\":{\"type\":\"object\",\"name\":\"VBar\",\"id\":\"p1043\",\"attributes\":{\"x\":{\"type\":\"field\",\"field\":\"Similarity\",\"transform\":{\"id\":\"p1037\"}},\"width\":{\"type\":\"value\",\"value\":0.2},\"top\":{\"type\":\"field\",\"field\":\"Child1\"},\"line_color\":{\"type\":\"value\",\"value\":\"#e84d60\"},\"line_alpha\":{\"type\":\"value\",\"value\":0.2},\"fill_color\":{\"type\":\"value\",\"value\":\"#e84d60\"},\"fill_alpha\":{\"type\":\"value\",\"value\":0.2},\"hatch_color\":{\"type\":\"value\",\"value\":\"#e84d60\"},\"hatch_alpha\":{\"type\":\"value\",\"value\":0.2}}}}},{\"type\":\"object\",\"name\":\"GlyphRenderer\",\"id\":\"p1068\",\"attributes\":{\"data_source\":{\"id\":\"p1002\"},\"view\":{\"type\":\"object\",\"name\":\"CDSView\",\"id\":\"p1069\",\"attributes\":{\"filter\":{\"type\":\"object\",\"name\":\"AllIndices\",\"id\":\"p1070\"}}},\"glyph\":{\"type\":\"object\",\"name\":\"VBar\",\"id\":\"p1065\",\"attributes\":{\"x\":{\"type\":\"field\",\"field\":\"Similarity\",\"transform\":{\"type\":\"object\",\"name\":\"Dodge\",\"id\":\"p1061\",\"attributes\":{\"range\":{\"id\":\"p1015\"}}}},\"width\":{\"type\":\"value\",\"value\":0.2},\"top\":{\"type\":\"field\",\"field\":\"Child2\"},\"line_color\":{\"type\":\"value\",\"value\":\"#718dbf\"},\"fill_color\":{\"type\":\"value\",\"value\":\"#718dbf\"},\"hatch_color\":{\"type\":\"value\",\"value\":\"#718dbf\"}}},\"nonselection_glyph\":{\"type\":\"object\",\"name\":\"VBar\",\"id\":\"p1066\",\"attributes\":{\"x\":{\"type\":\"field\",\"field\":\"Similarity\",\"transform\":{\"id\":\"p1061\"}},\"width\":{\"type\":\"value\",\"value\":0.2},\"top\":{\"type\":\"field\",\"field\":\"Child2\"},\"line_color\":{\"type\":\"value\",\"value\":\"#718dbf\"},\"line_alpha\":{\"type\":\"value\",\"value\":0.1},\"fill_color\":{\"type\":\"value\",\"value\":\"#718dbf\"},\"fill_alpha\":{\"type\":\"value\",\"value\":0.1},\"hatch_color\":{\"type\":\"value\",\"value\":\"#718dbf\"},\"hatch_alpha\":{\"type\":\"value\",\"value\":0.1}}},\"muted_glyph\":{\"type\":\"object\",\"name\":\"VBar\",\"id\":\"p1067\",\"attributes\":{\"x\":{\"type\":\"field\",\"field\":\"Similarity\",\"transform\":{\"id\":\"p1061\"}},\"width\":{\"type\":\"value\",\"value\":0.2},\"top\":{\"type\":\"field\",\"field\":\"Child2\"},\"line_color\":{\"type\":\"value\",\"value\":\"#718dbf\"},\"line_alpha\":{\"type\":\"value\",\"value\":0.2},\"fill_color\":{\"type\":\"value\",\"value\":\"#718dbf\"},\"fill_alpha\":{\"type\":\"value\",\"value\":0.2},\"hatch_color\":{\"type\":\"value\",\"value\":\"#718dbf\"},\"hatch_alpha\":{\"type\":\"value\",\"value\":0.2}}}}},{\"type\":\"object\",\"name\":\"GlyphRenderer\",\"id\":\"p1094\",\"attributes\":{\"data_source\":{\"id\":\"p1002\"},\"view\":{\"type\":\"object\",\"name\":\"CDSView\",\"id\":\"p1095\",\"attributes\":{\"filter\":{\"type\":\"object\",\"name\":\"AllIndices\",\"id\":\"p1096\"}}},\"glyph\":{\"type\":\"object\",\"name\":\"VBar\",\"id\":\"p1091\",\"attributes\":{\"x\":{\"type\":\"field\",\"field\":\"Similarity\",\"transform\":{\"type\":\"object\",\"name\":\"Dodge\",\"id\":\"p1087\",\"attributes\":{\"value\":0.25,\"range\":{\"id\":\"p1015\"}}}},\"width\":{\"type\":\"value\",\"value\":0.2},\"top\":{\"type\":\"field\",\"field\":\"Child3\"},\"line_color\":{\"type\":\"value\",\"value\":\"#71aabf\"},\"fill_color\":{\"type\":\"value\",\"value\":\"#71aabf\"},\"hatch_color\":{\"type\":\"value\",\"value\":\"#71aabf\"}}},\"nonselection_glyph\":{\"type\":\"object\",\"name\":\"VBar\",\"id\":\"p1092\",\"attributes\":{\"x\":{\"type\":\"field\",\"field\":\"Similarity\",\"transform\":{\"id\":\"p1087\"}},\"width\":{\"type\":\"value\",\"value\":0.2},\"top\":{\"type\":\"field\",\"field\":\"Child3\"},\"line_color\":{\"type\":\"value\",\"value\":\"#71aabf\"},\"line_alpha\":{\"type\":\"value\",\"value\":0.1},\"fill_color\":{\"type\":\"value\",\"value\":\"#71aabf\"},\"fill_alpha\":{\"type\":\"value\",\"value\":0.1},\"hatch_color\":{\"type\":\"value\",\"value\":\"#71aabf\"},\"hatch_alpha\":{\"type\":\"value\",\"value\":0.1}}},\"muted_glyph\":{\"type\":\"object\",\"name\":\"VBar\",\"id\":\"p1093\",\"attributes\":{\"x\":{\"type\":\"field\",\"field\":\"Similarity\",\"transform\":{\"id\":\"p1087\"}},\"width\":{\"type\":\"value\",\"value\":0.2},\"top\":{\"type\":\"field\",\"field\":\"Child3\"},\"line_color\":{\"type\":\"value\",\"value\":\"#71aabf\"},\"line_alpha\":{\"type\":\"value\",\"value\":0.2},\"fill_color\":{\"type\":\"value\",\"value\":\"#71aabf\"},\"fill_alpha\":{\"type\":\"value\",\"value\":0.2},\"hatch_color\":{\"type\":\"value\",\"value\":\"#71aabf\"},\"hatch_alpha\":{\"type\":\"value\",\"value\":0.2}}}}}],\"toolbar\":{\"type\":\"object\",\"name\":\"Toolbar\",\"id\":\"p1011\"},\"toolbar_location\":null,\"left\":[{\"type\":\"object\",\"name\":\"LinearAxis\",\"id\":\"p1029\",\"attributes\":{\"ticker\":{\"type\":\"object\",\"name\":\"BasicTicker\",\"id\":\"p1032\",\"attributes\":{\"mantissas\":[1,2,5]}},\"formatter\":{\"type\":\"object\",\"name\":\"BasicTickFormatter\",\"id\":\"p1030\"},\"major_label_policy\":{\"type\":\"object\",\"name\":\"AllLabels\",\"id\":\"p1031\"}}}],\"below\":[{\"type\":\"object\",\"name\":\"CategoricalAxis\",\"id\":\"p1023\",\"attributes\":{\"ticker\":{\"type\":\"object\",\"name\":\"CategoricalTicker\",\"id\":\"p1026\"},\"formatter\":{\"type\":\"object\",\"name\":\"CategoricalTickFormatter\",\"id\":\"p1024\"},\"major_label_orientation\":\"vertical\",\"major_label_policy\":{\"type\":\"object\",\"name\":\"AllLabels\",\"id\":\"p1025\"}}}],\"center\":[{\"type\":\"object\",\"name\":\"Grid\",\"id\":\"p1028\",\"attributes\":{\"axis\":{\"id\":\"p1023\"},\"grid_line_color\":null}},{\"type\":\"object\",\"name\":\"Grid\",\"id\":\"p1035\",\"attributes\":{\"dimension\":1,\"axis\":{\"id\":\"p1029\"}}},{\"type\":\"object\",\"name\":\"Legend\",\"id\":\"p1059\",\"attributes\":{\"location\":\"top_left\",\"orientation\":\"horizontal\",\"items\":[{\"type\":\"object\",\"name\":\"LegendItem\",\"id\":\"p1060\",\"attributes\":{\"label\":{\"type\":\"value\",\"value\":\"Child1\"},\"renderers\":[{\"id\":\"p1044\"}]}},{\"type\":\"object\",\"name\":\"LegendItem\",\"id\":\"p1086\",\"attributes\":{\"label\":{\"type\":\"value\",\"value\":\"Child2\"},\"renderers\":[{\"id\":\"p1068\"}]}},{\"type\":\"object\",\"name\":\"LegendItem\",\"id\":\"p1115\",\"attributes\":{\"label\":{\"type\":\"value\",\"value\":\"Child3\"},\"renderers\":[{\"id\":\"p1094\"}]}}]}}]}},\"closable\":true}},{\"type\":\"object\",\"name\":\"TabPanel\",\"id\":\"p1231\",\"attributes\":{\"title\":\"Mother similarity\",\"child\":{\"type\":\"object\",\"name\":\"Figure\",\"id\":\"p1119\",\"attributes\":{\"width\":1000,\"height\":500,\"x_range\":{\"type\":\"object\",\"name\":\"FactorRange\",\"id\":\"p1129\",\"attributes\":{\"factors\":[\"1\",\"10\",\"11\",\"12\",\"13\",\"14\",\"15\",\"16\",\"17\",\"18\",\"19\",\"2\",\"20\",\"21\",\"22\",\"3\",\"4\",\"5\",\"6\",\"7\",\"8\",\"9\",\"MT\",\"X\",\"Y\"],\"range_padding\":0.1}},\"y_range\":{\"type\":\"object\",\"name\":\"DataRange1d\",\"id\":\"p1121\"},\"x_scale\":{\"type\":\"object\",\"name\":\"CategoricalScale\",\"id\":\"p1133\"},\"y_scale\":{\"type\":\"object\",\"name\":\"LinearScale\",\"id\":\"p1135\"},\"title\":{\"type\":\"object\",\"name\":\"Title\",\"id\":\"p1122\",\"attributes\":{\"text\":\"Similarity between children and mother\"}},\"renderers\":[{\"type\":\"object\",\"name\":\"GlyphRenderer\",\"id\":\"p1158\",\"attributes\":{\"data_source\":{\"type\":\"object\",\"name\":\"ColumnDataSource\",\"id\":\"p1116\",\"attributes\":{\"selected\":{\"type\":\"object\",\"name\":\"Selection\",\"id\":\"p1118\",\"attributes\":{\"indices\":[],\"line_indices\":[]}},\"selection_policy\":{\"type\":\"object\",\"name\":\"UnionRenderers\",\"id\":\"p1117\"},\"data\":{\"type\":\"map\",\"entries\":[[\"Similarity\",{\"type\":\"ndarray\",\"array\":[\"1\",\"10\",\"11\",\"12\",\"13\",\"14\",\"15\",\"16\",\"17\",\"18\",\"19\",\"2\",\"20\",\"21\",\"22\",\"3\",\"4\",\"5\",\"6\",\"7\",\"8\",\"9\",\"MT\",\"X\"],\"shape\":[24],\"dtype\":\"object\",\"order\":\"little\"}],[\"Child1\",{\"type\":\"ndarray\",\"array\":{\"type\":\"bytes\",\"data\":\"jhgAAIcOAAD7DwAAjA4AAOQKAAChCgAAfwkAAEcKAAAHCgAALQgAANkJAADIFwAAhwcAAGQEAADyBAAAexMAAEsRAAArEAAAHRcAAC8RAABjDgAADw0AAB9wAAA4AAAA\"},\"shape\":[24],\"dtype\":\"int32\",\"order\":\"little\"}],[\"Child2\",{\"type\":\"ndarray\",\"array\":{\"type\":\"bytes\",\"data\":\"LRgAAHMOAADgDwAAcg4AAA0LAACWCgAAaAkAADEKAABNCgAA4wgAAHkJAACcFwAAZwcAAHAEAADfBAAAPxMAAB4RAADUDwAA4BcAABsRAABqDgAA7gwAACNwAAA2AAAA\"},\"shape\":[24],\"dtype\":\"int32\",\"order\":\"little\"}],[\"Child3\",{\"type\":\"ndarray\",\"array\":{\"type\":\"bytes\",\"data\":\"dhgAAGMOAAAZEAAA1A4AAP8KAABoCgAAkgkAADUKAABUCgAASQgAAOkJAAC7FwAAigcAAF8EAACdBAAAhBMAAEMRAAAdEAAAexcAADURAABADgAA0gwAACNwAAA5AAAA\"},\"shape\":[24],\"dtype\":\"int32\",\"order\":\"little\"}]]}}},\"view\":{\"type\":\"object\",\"name\":\"CDSView\",\"id\":\"p1159\",\"attributes\":{\"filter\":{\"type\":\"object\",\"name\":\"AllIndices\",\"id\":\"p1160\"}}},\"glyph\":{\"type\":\"object\",\"name\":\"VBar\",\"id\":\"p1155\",\"attributes\":{\"x\":{\"type\":\"field\",\"field\":\"Similarity\",\"transform\":{\"type\":\"object\",\"name\":\"Dodge\",\"id\":\"p1151\",\"attributes\":{\"value\":-0.25,\"range\":{\"id\":\"p1129\"}}}},\"width\":{\"type\":\"value\",\"value\":0.2},\"top\":{\"type\":\"field\",\"field\":\"Child1\"},\"line_color\":{\"type\":\"value\",\"value\":\"#e84d60\"},\"fill_color\":{\"type\":\"value\",\"value\":\"#e84d60\"},\"hatch_color\":{\"type\":\"value\",\"value\":\"#e84d60\"}}},\"nonselection_glyph\":{\"type\":\"object\",\"name\":\"VBar\",\"id\":\"p1156\",\"attributes\":{\"x\":{\"type\":\"field\",\"field\":\"Similarity\",\"transform\":{\"id\":\"p1151\"}},\"width\":{\"type\":\"value\",\"value\":0.2},\"top\":{\"type\":\"field\",\"field\":\"Child1\"},\"line_color\":{\"type\":\"value\",\"value\":\"#e84d60\"},\"line_alpha\":{\"type\":\"value\",\"value\":0.1},\"fill_color\":{\"type\":\"value\",\"value\":\"#e84d60\"},\"fill_alpha\":{\"type\":\"value\",\"value\":0.1},\"hatch_color\":{\"type\":\"value\",\"value\":\"#e84d60\"},\"hatch_alpha\":{\"type\":\"value\",\"value\":0.1}}},\"muted_glyph\":{\"type\":\"object\",\"name\":\"VBar\",\"id\":\"p1157\",\"attributes\":{\"x\":{\"type\":\"field\",\"field\":\"Similarity\",\"transform\":{\"id\":\"p1151\"}},\"width\":{\"type\":\"value\",\"value\":0.2},\"top\":{\"type\":\"field\",\"field\":\"Child1\"},\"line_color\":{\"type\":\"value\",\"value\":\"#e84d60\"},\"line_alpha\":{\"type\":\"value\",\"value\":0.2},\"fill_color\":{\"type\":\"value\",\"value\":\"#e84d60\"},\"fill_alpha\":{\"type\":\"value\",\"value\":0.2},\"hatch_color\":{\"type\":\"value\",\"value\":\"#e84d60\"},\"hatch_alpha\":{\"type\":\"value\",\"value\":0.2}}}}},{\"type\":\"object\",\"name\":\"GlyphRenderer\",\"id\":\"p1182\",\"attributes\":{\"data_source\":{\"id\":\"p1116\"},\"view\":{\"type\":\"object\",\"name\":\"CDSView\",\"id\":\"p1183\",\"attributes\":{\"filter\":{\"type\":\"object\",\"name\":\"AllIndices\",\"id\":\"p1184\"}}},\"glyph\":{\"type\":\"object\",\"name\":\"VBar\",\"id\":\"p1179\",\"attributes\":{\"x\":{\"type\":\"field\",\"field\":\"Similarity\",\"transform\":{\"type\":\"object\",\"name\":\"Dodge\",\"id\":\"p1175\",\"attributes\":{\"range\":{\"id\":\"p1129\"}}}},\"width\":{\"type\":\"value\",\"value\":0.2},\"top\":{\"type\":\"field\",\"field\":\"Child2\"},\"line_color\":{\"type\":\"value\",\"value\":\"#718dbf\"},\"fill_color\":{\"type\":\"value\",\"value\":\"#718dbf\"},\"hatch_color\":{\"type\":\"value\",\"value\":\"#718dbf\"}}},\"nonselection_glyph\":{\"type\":\"object\",\"name\":\"VBar\",\"id\":\"p1180\",\"attributes\":{\"x\":{\"type\":\"field\",\"field\":\"Similarity\",\"transform\":{\"id\":\"p1175\"}},\"width\":{\"type\":\"value\",\"value\":0.2},\"top\":{\"type\":\"field\",\"field\":\"Child2\"},\"line_color\":{\"type\":\"value\",\"value\":\"#718dbf\"},\"line_alpha\":{\"type\":\"value\",\"value\":0.1},\"fill_color\":{\"type\":\"value\",\"value\":\"#718dbf\"},\"fill_alpha\":{\"type\":\"value\",\"value\":0.1},\"hatch_color\":{\"type\":\"value\",\"value\":\"#718dbf\"},\"hatch_alpha\":{\"type\":\"value\",\"value\":0.1}}},\"muted_glyph\":{\"type\":\"object\",\"name\":\"VBar\",\"id\":\"p1181\",\"attributes\":{\"x\":{\"type\":\"field\",\"field\":\"Similarity\",\"transform\":{\"id\":\"p1175\"}},\"width\":{\"type\":\"value\",\"value\":0.2},\"top\":{\"type\":\"field\",\"field\":\"Child2\"},\"line_color\":{\"type\":\"value\",\"value\":\"#718dbf\"},\"line_alpha\":{\"type\":\"value\",\"value\":0.2},\"fill_color\":{\"type\":\"value\",\"value\":\"#718dbf\"},\"fill_alpha\":{\"type\":\"value\",\"value\":0.2},\"hatch_color\":{\"type\":\"value\",\"value\":\"#718dbf\"},\"hatch_alpha\":{\"type\":\"value\",\"value\":0.2}}}}},{\"type\":\"object\",\"name\":\"GlyphRenderer\",\"id\":\"p1208\",\"attributes\":{\"data_source\":{\"id\":\"p1116\"},\"view\":{\"type\":\"object\",\"name\":\"CDSView\",\"id\":\"p1209\",\"attributes\":{\"filter\":{\"type\":\"object\",\"name\":\"AllIndices\",\"id\":\"p1210\"}}},\"glyph\":{\"type\":\"object\",\"name\":\"VBar\",\"id\":\"p1205\",\"attributes\":{\"x\":{\"type\":\"field\",\"field\":\"Similarity\",\"transform\":{\"type\":\"object\",\"name\":\"Dodge\",\"id\":\"p1201\",\"attributes\":{\"value\":0.25,\"range\":{\"id\":\"p1129\"}}}},\"width\":{\"type\":\"value\",\"value\":0.2},\"top\":{\"type\":\"field\",\"field\":\"Child3\"},\"line_color\":{\"type\":\"value\",\"value\":\"#71aabf\"},\"fill_color\":{\"type\":\"value\",\"value\":\"#71aabf\"},\"hatch_color\":{\"type\":\"value\",\"value\":\"#71aabf\"}}},\"nonselection_glyph\":{\"type\":\"object\",\"name\":\"VBar\",\"id\":\"p1206\",\"attributes\":{\"x\":{\"type\":\"field\",\"field\":\"Similarity\",\"transform\":{\"id\":\"p1201\"}},\"width\":{\"type\":\"value\",\"value\":0.2},\"top\":{\"type\":\"field\",\"field\":\"Child3\"},\"line_color\":{\"type\":\"value\",\"value\":\"#71aabf\"},\"line_alpha\":{\"type\":\"value\",\"value\":0.1},\"fill_color\":{\"type\":\"value\",\"value\":\"#71aabf\"},\"fill_alpha\":{\"type\":\"value\",\"value\":0.1},\"hatch_color\":{\"type\":\"value\",\"value\":\"#71aabf\"},\"hatch_alpha\":{\"type\":\"value\",\"value\":0.1}}},\"muted_glyph\":{\"type\":\"object\",\"name\":\"VBar\",\"id\":\"p1207\",\"attributes\":{\"x\":{\"type\":\"field\",\"field\":\"Similarity\",\"transform\":{\"id\":\"p1201\"}},\"width\":{\"type\":\"value\",\"value\":0.2},\"top\":{\"type\":\"field\",\"field\":\"Child3\"},\"line_color\":{\"type\":\"value\",\"value\":\"#71aabf\"},\"line_alpha\":{\"type\":\"value\",\"value\":0.2},\"fill_color\":{\"type\":\"value\",\"value\":\"#71aabf\"},\"fill_alpha\":{\"type\":\"value\",\"value\":0.2},\"hatch_color\":{\"type\":\"value\",\"value\":\"#71aabf\"},\"hatch_alpha\":{\"type\":\"value\",\"value\":0.2}}}}}],\"toolbar\":{\"type\":\"object\",\"name\":\"Toolbar\",\"id\":\"p1125\"},\"toolbar_location\":null,\"left\":[{\"type\":\"object\",\"name\":\"LinearAxis\",\"id\":\"p1143\",\"attributes\":{\"ticker\":{\"type\":\"object\",\"name\":\"BasicTicker\",\"id\":\"p1146\",\"attributes\":{\"mantissas\":[1,2,5]}},\"formatter\":{\"type\":\"object\",\"name\":\"BasicTickFormatter\",\"id\":\"p1144\"},\"major_label_policy\":{\"type\":\"object\",\"name\":\"AllLabels\",\"id\":\"p1145\"}}}],\"below\":[{\"type\":\"object\",\"name\":\"CategoricalAxis\",\"id\":\"p1137\",\"attributes\":{\"ticker\":{\"type\":\"object\",\"name\":\"CategoricalTicker\",\"id\":\"p1140\"},\"formatter\":{\"type\":\"object\",\"name\":\"CategoricalTickFormatter\",\"id\":\"p1138\"},\"major_label_orientation\":\"vertical\",\"major_label_policy\":{\"type\":\"object\",\"name\":\"AllLabels\",\"id\":\"p1139\"}}}],\"center\":[{\"type\":\"object\",\"name\":\"Grid\",\"id\":\"p1142\",\"attributes\":{\"axis\":{\"id\":\"p1137\"},\"grid_line_color\":null}},{\"type\":\"object\",\"name\":\"Grid\",\"id\":\"p1149\",\"attributes\":{\"dimension\":1,\"axis\":{\"id\":\"p1143\"}}},{\"type\":\"object\",\"name\":\"Legend\",\"id\":\"p1173\",\"attributes\":{\"location\":\"top_left\",\"orientation\":\"horizontal\",\"items\":[{\"type\":\"object\",\"name\":\"LegendItem\",\"id\":\"p1174\",\"attributes\":{\"label\":{\"type\":\"value\",\"value\":\"Child1\"},\"renderers\":[{\"id\":\"p1158\"}]}},{\"type\":\"object\",\"name\":\"LegendItem\",\"id\":\"p1200\",\"attributes\":{\"label\":{\"type\":\"value\",\"value\":\"Child2\"},\"renderers\":[{\"id\":\"p1182\"}]}},{\"type\":\"object\",\"name\":\"LegendItem\",\"id\":\"p1229\",\"attributes\":{\"label\":{\"type\":\"value\",\"value\":\"Child3\"},\"renderers\":[{\"id\":\"p1208\"}]}}]}}]}},\"closable\":true}}]}}]}};\n  const render_items = [{\"docid\":\"b1ab9603-02dc-4a61-8859-929779d78e9f\",\"roots\":{\"p1232\":\"5fa82ce2-c38e-4354-96aa-7f9af81b3d16\"},\"root_ids\":[\"p1232\"]}];\n  root.Bokeh.embed.embed_items_notebook(docs_json, render_items);\n  }\n  if (root.Bokeh !== undefined) {\n    embed_document(root);\n  } else {\n    let attempts = 0;\n    const timer = setInterval(function(root) {\n      if (root.Bokeh !== undefined) {\n        clearInterval(timer);\n        embed_document(root);\n      } else {\n        attempts++;\n        if (attempts > 100) {\n          clearInterval(timer);\n          console.log(\"Bokeh: ERROR: Unable to run BokehJS code because BokehJS library is missing\");\n        }\n      }\n    }, 10, root)\n  }\n})(window);",
      "application/vnd.bokehjs_exec.v0+json": ""
     },
     "metadata": {
      "application/vnd.bokehjs_exec.v0+json": {
       "id": "p1232"
      }
     },
     "output_type": "display_data"
    }
   ],
   "source": [
    "legends = [\"Child1\",\"Child2\",\"Child3\"]\n",
    "\n",
    "data1 = {'Similarity' : Father_children_Genome['chromosome'],\n",
    "        'Child1' : Father_children_Genome[\"Father_similarity_child1\"],\n",
    "        'Child2' : Father_children_Genome[\"Father_similarity_child2\"],\n",
    "        'Child3' : Father_children_Genome[\"Father_similarity_child3\"],}\n",
    "\n",
    "source1 = ColumnDataSource(data=data1)\n",
    "\n",
    "p1 = figure(x_range=Father_children_Genome['chromosome'], title=\"Similarity between children and father\",\n",
    "           height=350, toolbar_location=None, tools=\"\")\n",
    "\n",
    "p1.vbar(x=dodge('Similarity', -0.25, range=p1.x_range), top='Child1', source=source1,\n",
    "       width=0.2, color=\"#e84d60\", legend_label=\"Child1\")\n",
    "\n",
    "p1.vbar(x=dodge('Similarity',  0.0,  range=p1.x_range), top='Child2', source=source1,\n",
    "       width=0.2, color=\"#718dbf\", legend_label=\"Child2\")\n",
    "\n",
    "p1.vbar(x=dodge('Similarity',  0.25,  range=p1.x_range), top='Child3', source=source1,\n",
    "       width=0.2, color=\"#71aabf\", legend_label=\"Child3\")\n",
    "\n",
    "p1.x_range.range_padding = 0.1\n",
    "p1.xgrid.grid_line_color = None\n",
    "p1.legend.location = \"top_left\"\n",
    "p1.legend.orientation = \"horizontal\"\n",
    "p1.xaxis.major_label_orientation = \"vertical\"\n",
    "p1.width = 1000\n",
    "p1.height = 500\n",
    "\n",
    "\n",
    "data2 = {'Similarity' : Mother_children_Genome['chromosome'],\n",
    "        'Child1' : Mother_children_Genome[\"Mother_similarity_child1\"],\n",
    "        'Child2' : Mother_children_Genome[\"Mother_similarity_child2\"],\n",
    "        'Child3' : Mother_children_Genome[\"Mother_similarity_child3\"],}\n",
    "\n",
    "source2 = ColumnDataSource(data=data2)\n",
    "\n",
    "p2 = figure(x_range=Father_children_Genome['chromosome'], title=\"Similarity between children and mother\",\n",
    "           height=350, toolbar_location=None, tools=\"\")\n",
    "\n",
    "p2.vbar(x=dodge('Similarity', -0.25, range=p2.x_range), top='Child1', source=source2,\n",
    "       width=0.2, color=\"#e84d60\", legend_label=\"Child1\")\n",
    "\n",
    "p2.vbar(x=dodge('Similarity',  0.0,  range=p2.x_range), top='Child2', source=source2,\n",
    "       width=0.2, color=\"#718dbf\", legend_label=\"Child2\")\n",
    "\n",
    "p2.vbar(x=dodge('Similarity',  0.25,  range=p2.x_range), top='Child3', source=source2,\n",
    "       width=0.2, color=\"#71aabf\", legend_label=\"Child3\")\n",
    "\n",
    "p2.x_range.range_padding = 0.1\n",
    "p2.xgrid.grid_line_color = None\n",
    "p2.legend.location = \"top_left\"\n",
    "p2.legend.orientation = \"horizontal\"\n",
    "p2.xaxis.major_label_orientation = \"vertical\"\n",
    "p2.width = 1000\n",
    "p2.height = 500\n",
    "\n",
    "tab1 = TabPanel(child=p1, closable = True, title = \"Father similarity\")\n",
    "tab2 = TabPanel(child=p2, closable = True, title = \"Mother similarity\")\n",
    "\n",
    "show(Tabs(tabs = [tab1, tab2]))"
   ]
  },
  {
   "attachments": {},
   "cell_type": "markdown",
   "metadata": {},
   "source": [
    "#### Decision making\n",
    "- As chart shows we find MT chromosome in child has most similarity for both between children-mother and children-father\n",
    "- similarity between children and parents for 3 children is almost equal \n"
   ]
  },
  {
   "attachments": {},
   "cell_type": "markdown",
   "metadata": {},
   "source": [
    "#### Next steps of question\n",
    "I want to compare the similarity of the children with the father and the similarity of the children with the mother. So i need to calculate mean for each group.\n",
    "Because 3 children silmilarity is the same so i going to calculate mean for father-children and mother-children"
   ]
  },
  {
   "cell_type": "code",
   "execution_count": 14,
   "metadata": {},
   "outputs": [
    {
     "name": "stdout",
     "output_type": "stream",
     "text": [
      "110381.0 105631.0\n"
     ]
    }
   ],
   "source": [
    "Father_child1_similarity_mean = (Father_children_Genome['Father_similarity_child1'].sum() + Father_children_Genome['Father_similarity_child1'].sum() + Father_children_Genome['Father_similarity_child1'].sum())/3\n",
    "Mother_child1_similarity_mean = (Mother_children_Genome['Mother_similarity_child1'].sum() + Mother_children_Genome['Mother_similarity_child1'].sum() + Mother_children_Genome['Mother_similarity_child1'].sum())/3\n",
    "\n",
    "print(Father_child1_similarity_mean,Mother_child1_similarity_mean)"
   ]
  },
  {
   "attachments": {},
   "cell_type": "markdown",
   "metadata": {},
   "source": [
    "##### Visualizing"
   ]
  },
  {
   "cell_type": "code",
   "execution_count": 15,
   "metadata": {},
   "outputs": [
    {
     "data": {
      "text/html": [
       "\n",
       "  <div id=\"7b8f6e04-0f33-4deb-a768-5f27b0c43f6c\" data-root-id=\"p1455\" style=\"display: contents;\"></div>\n"
      ]
     },
     "metadata": {},
     "output_type": "display_data"
    },
    {
     "data": {
      "application/javascript": "(function(root) {\n  function embed_document(root) {\n  const docs_json = {\"e01136b6-e25e-4278-9c21-97f8eaec02fd\":{\"version\":\"3.0.3\",\"title\":\"Bokeh Application\",\"defs\":[],\"roots\":[{\"type\":\"object\",\"name\":\"Figure\",\"id\":\"p1455\",\"attributes\":{\"x_range\":{\"type\":\"object\",\"name\":\"FactorRange\",\"id\":\"p1465\",\"attributes\":{\"factors\":[\"Father\",\"Mother\"]}},\"y_range\":{\"type\":\"object\",\"name\":\"DataRange1d\",\"id\":\"p1457\"},\"x_scale\":{\"type\":\"object\",\"name\":\"CategoricalScale\",\"id\":\"p1469\"},\"y_scale\":{\"type\":\"object\",\"name\":\"LinearScale\",\"id\":\"p1471\"},\"title\":{\"type\":\"object\",\"name\":\"Title\",\"id\":\"p1458\",\"attributes\":{\"text\":\"compare similarity between father and mother\"}},\"renderers\":[{\"type\":\"object\",\"name\":\"GlyphRenderer\",\"id\":\"p1507\",\"attributes\":{\"data_source\":{\"type\":\"object\",\"name\":\"ColumnDataSource\",\"id\":\"p1501\",\"attributes\":{\"selected\":{\"type\":\"object\",\"name\":\"Selection\",\"id\":\"p1503\",\"attributes\":{\"indices\":[],\"line_indices\":[]}},\"selection_policy\":{\"type\":\"object\",\"name\":\"UnionRenderers\",\"id\":\"p1502\"},\"data\":{\"type\":\"map\",\"entries\":[[\"x\",[\"Father\",\"Mother\"]],[\"top\",[110381.0,105631.0]],[\"fill_color\",[\"red\",\"blue\"]]]}}},\"view\":{\"type\":\"object\",\"name\":\"CDSView\",\"id\":\"p1508\",\"attributes\":{\"filter\":{\"type\":\"object\",\"name\":\"AllIndices\",\"id\":\"p1509\"}}},\"glyph\":{\"type\":\"object\",\"name\":\"VBar\",\"id\":\"p1504\",\"attributes\":{\"x\":{\"type\":\"field\",\"field\":\"x\"},\"width\":{\"type\":\"value\",\"value\":0.5},\"top\":{\"type\":\"field\",\"field\":\"top\"},\"line_color\":{\"type\":\"value\",\"value\":\"#1f77b4\"},\"fill_color\":{\"type\":\"field\",\"field\":\"fill_color\"}}},\"nonselection_glyph\":{\"type\":\"object\",\"name\":\"VBar\",\"id\":\"p1505\",\"attributes\":{\"x\":{\"type\":\"field\",\"field\":\"x\"},\"width\":{\"type\":\"value\",\"value\":0.5},\"top\":{\"type\":\"field\",\"field\":\"top\"},\"line_color\":{\"type\":\"value\",\"value\":\"#1f77b4\"},\"line_alpha\":{\"type\":\"value\",\"value\":0.1},\"fill_color\":{\"type\":\"field\",\"field\":\"fill_color\"},\"fill_alpha\":{\"type\":\"value\",\"value\":0.1},\"hatch_alpha\":{\"type\":\"value\",\"value\":0.1}}},\"muted_glyph\":{\"type\":\"object\",\"name\":\"VBar\",\"id\":\"p1506\",\"attributes\":{\"x\":{\"type\":\"field\",\"field\":\"x\"},\"width\":{\"type\":\"value\",\"value\":0.5},\"top\":{\"type\":\"field\",\"field\":\"top\"},\"line_color\":{\"type\":\"value\",\"value\":\"#1f77b4\"},\"line_alpha\":{\"type\":\"value\",\"value\":0.2},\"fill_color\":{\"type\":\"field\",\"field\":\"fill_color\"},\"fill_alpha\":{\"type\":\"value\",\"value\":0.2},\"hatch_alpha\":{\"type\":\"value\",\"value\":0.2}}}}}],\"toolbar\":{\"type\":\"object\",\"name\":\"Toolbar\",\"id\":\"p1461\",\"attributes\":{\"tools\":[{\"type\":\"object\",\"name\":\"PanTool\",\"id\":\"p1486\"},{\"type\":\"object\",\"name\":\"WheelZoomTool\",\"id\":\"p1487\"},{\"type\":\"object\",\"name\":\"BoxZoomTool\",\"id\":\"p1488\",\"attributes\":{\"overlay\":{\"type\":\"object\",\"name\":\"BoxAnnotation\",\"id\":\"p1489\",\"attributes\":{\"syncable\":false,\"level\":\"overlay\",\"visible\":false,\"left_units\":\"canvas\",\"right_units\":\"canvas\",\"bottom_units\":\"canvas\",\"top_units\":\"canvas\",\"line_color\":\"black\",\"line_alpha\":1.0,\"line_width\":2,\"line_dash\":[4,4],\"fill_color\":\"lightgrey\",\"fill_alpha\":0.5}}}},{\"type\":\"object\",\"name\":\"SaveTool\",\"id\":\"p1490\"},{\"type\":\"object\",\"name\":\"ResetTool\",\"id\":\"p1491\"},{\"type\":\"object\",\"name\":\"HelpTool\",\"id\":\"p1492\"}]}},\"left\":[{\"type\":\"object\",\"name\":\"LinearAxis\",\"id\":\"p1479\",\"attributes\":{\"ticker\":{\"type\":\"object\",\"name\":\"BasicTicker\",\"id\":\"p1482\",\"attributes\":{\"mantissas\":[1,2,5]}},\"formatter\":{\"type\":\"object\",\"name\":\"BasicTickFormatter\",\"id\":\"p1480\"},\"major_label_policy\":{\"type\":\"object\",\"name\":\"AllLabels\",\"id\":\"p1481\"}}}],\"below\":[{\"type\":\"object\",\"name\":\"CategoricalAxis\",\"id\":\"p1473\",\"attributes\":{\"ticker\":{\"type\":\"object\",\"name\":\"CategoricalTicker\",\"id\":\"p1476\"},\"formatter\":{\"type\":\"object\",\"name\":\"CategoricalTickFormatter\",\"id\":\"p1474\"},\"major_label_policy\":{\"type\":\"object\",\"name\":\"AllLabels\",\"id\":\"p1475\"}}}],\"center\":[{\"type\":\"object\",\"name\":\"Grid\",\"id\":\"p1478\",\"attributes\":{\"axis\":{\"id\":\"p1473\"}}},{\"type\":\"object\",\"name\":\"Grid\",\"id\":\"p1485\",\"attributes\":{\"dimension\":1,\"axis\":{\"id\":\"p1479\"}}}]}}]}};\n  const render_items = [{\"docid\":\"e01136b6-e25e-4278-9c21-97f8eaec02fd\",\"roots\":{\"p1455\":\"7b8f6e04-0f33-4deb-a768-5f27b0c43f6c\"},\"root_ids\":[\"p1455\"]}];\n  root.Bokeh.embed.embed_items_notebook(docs_json, render_items);\n  }\n  if (root.Bokeh !== undefined) {\n    embed_document(root);\n  } else {\n    let attempts = 0;\n    const timer = setInterval(function(root) {\n      if (root.Bokeh !== undefined) {\n        clearInterval(timer);\n        embed_document(root);\n      } else {\n        attempts++;\n        if (attempts > 100) {\n          clearInterval(timer);\n          console.log(\"Bokeh: ERROR: Unable to run BokehJS code because BokehJS library is missing\");\n        }\n      }\n    }, 10, root)\n  }\n})(window);",
      "application/vnd.bokehjs_exec.v0+json": ""
     },
     "metadata": {
      "application/vnd.bokehjs_exec.v0+json": {
       "id": "p1455"
      }
     },
     "output_type": "display_data"
    }
   ],
   "source": [
    "label = ['Father','Mother']\n",
    "value = [Father_child1_similarity_mean,Mother_child1_similarity_mean]\n",
    "\n",
    "graph = figure(x_range=label,title=\"compare similarity between father and mother\")\n",
    "\n",
    "graph.vbar(x=label, top=value,width=0.5,fill_color =['red','blue'])\n",
    "\n",
    "show(graph)\n"
   ]
  },
  {
   "attachments": {},
   "cell_type": "markdown",
   "metadata": {},
   "source": [
    "#### Decision making\n",
    "- As chart shows we find similarity between children with father and mother is almost equal."
   ]
  }
 ],
 "metadata": {
  "kernelspec": {
   "display_name": "Python 3",
   "language": "python",
   "name": "python3"
  },
  "language_info": {
   "codemirror_mode": {
    "name": "ipython",
    "version": 3
   },
   "file_extension": ".py",
   "mimetype": "text/x-python",
   "name": "python",
   "nbconvert_exporter": "python",
   "pygments_lexer": "ipython3",
   "version": "3.11.0"
  },
  "orig_nbformat": 4,
  "vscode": {
   "interpreter": {
    "hash": "0dd1b46f099dad4f130670df875e0417b55cff1f2f8bf5417db06dbc67498954"
   }
  }
 },
 "nbformat": 4,
 "nbformat_minor": 2
}
